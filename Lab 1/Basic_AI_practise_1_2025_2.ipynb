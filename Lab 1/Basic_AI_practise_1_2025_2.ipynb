{
  "cells": [
    {
      "cell_type": "markdown",
      "metadata": {
        "id": "fQcvdlwdimQb"
      },
      "source": [
        "**Оцінювання даної роботи буде ураховувати якість Вашого коду та текстових відповідей. При наявності ЛИШЕ коду , робота оцінюватися НЕ БУДЕ.**  \n",
        "\n",
        "**Оформлення текстових відповідей повинно проводитися в текстових комірках ноутбука з використанням синтаксису [LaTeX](https://en.wikibooks.org/wiki/LaTeX/Basics) для оформлення тексту та формул.**\n",
        "\n",
        "**Роботи ідентифіковані як ІДЕНТИЧНІ одразу отримують 0 балів.**\n",
        "\n",
        "**При реалізації завдань потрібно використовувати методи з бібліотеки numpy та pandas.**\n",
        "\n",
        "**Рішення з циклами будуть оцінені в 0 балів.**"
      ]
    },
    {
      "cell_type": "markdown",
      "metadata": {
        "id": "UfI7FZudfGwv"
      },
      "source": [
        "# I. NumPy."
      ]
    },
    {
      "cell_type": "markdown",
      "metadata": {
        "id": "XmA3PWg8fJxn"
      },
      "source": [
        "0. Імпортувати numpy загальноприйнятим способом."
      ]
    },
    {
      "cell_type": "code",
      "execution_count": null,
      "metadata": {
        "id": "JUli5tR8eTXG"
      },
      "outputs": [],
      "source": [
        "import numpy as np"
      ]
    },
    {
      "cell_type": "markdown",
      "metadata": {
        "id": "fppWPwoFjTrl"
      },
      "source": [
        "1. Визначити список з оцінками студента(ки) за семестр. Використовуючи його, створити одновимірний масив numpy."
      ]
    },
    {
      "cell_type": "code",
      "execution_count": null,
      "metadata": {
        "colab": {
          "base_uri": "https://localhost:8080/"
        },
        "id": "cuvs9lNAjVoB",
        "outputId": "c4b379fa-756b-47b3-a3df-881a4a93e81b"
      },
      "outputs": [
        {
          "name": "stdout",
          "output_type": "stream",
          "text": [
            "[2 2 3 4 5 4 4 3 4 5]\n"
          ]
        }
      ],
      "source": [
        "points = [2, 2, 3, 4, 5, 4, 4, 3, 4, 5]\n",
        "pointsArray = np.array(points)\n",
        "print(pointsArray)\n"
      ]
    },
    {
      "cell_type": "markdown",
      "metadata": {
        "id": "OGeLtAwcjcMB"
      },
      "source": [
        "2. Визначити список зі списками, де кожен рядок списку формально означає магазин, а кожна колонка - певний продукт (батон, яйця першої категорії, молоко та ковбаса), а елементами на пересічі є ціни на ці продукти відповідно. Використовуючи цей список, створити матрицю (двовимірний масив) numpy."
      ]
    },
    {
      "cell_type": "code",
      "execution_count": null,
      "metadata": {
        "colab": {
          "base_uri": "https://localhost:8080/"
        },
        "id": "zJ9kEAv5jcVo",
        "outputId": "269a141d-0a6c-40d8-9657-c486eacf2247"
      },
      "outputs": [
        {
          "name": "stdout",
          "output_type": "stream",
          "text": [
            "[['          ' ' Bread   ' '  Eggs   ' '   Milk  ' ' Sausages ']\n",
            " ['firstShop ' '  50$    ' '   60$    ' '   55$   ' '   60$    ']\n",
            " ['secondShop' '  10$    ' '   15$    ' '   13$   ' '   12$    ']\n",
            " ['thirdShop ' '  30$    ' '   40$    ' '   35$   ' '   20$    ']\n",
            " ['fourthShop' '  10$    ' '   15$    ' '   13$   ' '   12$    ']]\n"
          ]
        }
      ],
      "source": [
        "price = [[\"          \",\" Bread   \", \"  Eggs   \", \"   Milk  \", \" Sausages \"],\n",
        "         [\"firstShop \",\"  50$    \", \"   60$    \", \"   55$   \", \"   60$    \"],\n",
        "         [\"secondShop\",\"  10$    \", \"   15$    \", \"   13$   \", \"   12$    \"],\n",
        "         [\"thirdShop \",\"  30$    \", \"   40$    \", \"   35$   \", \"   20$    \"],\n",
        "         [\"fourthShop\",\"  10$    \", \"   15$    \", \"   13$   \", \"   12$    \"],\n",
        "\n",
        "        ]\n",
        "priceMatrix = np.array(price)\n",
        "print(priceMatrix)"
      ]
    },
    {
      "cell_type": "markdown",
      "metadata": {
        "id": "wK7wrEw2jcix"
      },
      "source": [
        "3. Отримайте тип даних значень з масивів завдань 2 та 3. Виведіть їх на екран."
      ]
    },
    {
      "cell_type": "code",
      "execution_count": null,
      "metadata": {
        "colab": {
          "base_uri": "https://localhost:8080/"
        },
        "id": "uDBL1x6vjcq9",
        "outputId": "9163a122-4431-4e08-ca17-efa5f519ae68"
      },
      "outputs": [
        {
          "name": "stdout",
          "output_type": "stream",
          "text": [
            "pointsArray:  int64 \n",
            " priceMatrix:  <U10\n"
          ]
        }
      ],
      "source": [
        "print(\"pointsArray: \", pointsArray.dtype, \"\\n\",\"priceMatrix: \", priceMatrix.dtype)"
      ]
    },
    {
      "cell_type": "markdown",
      "metadata": {
        "id": "nNhAgsC3jcyp"
      },
      "source": [
        "4. Отримайте форми (кортеж з кількістю рядків та колонок) масивів завдань 2 та 3. Виведіть їх на екран."
      ]
    },
    {
      "cell_type": "code",
      "execution_count": null,
      "metadata": {
        "colab": {
          "base_uri": "https://localhost:8080/"
        },
        "id": "Fi5oXTI8jc4-",
        "outputId": "d1d2b4a5-cc9a-47ca-d4ec-ba47a67114ed"
      },
      "outputs": [
        {
          "name": "stdout",
          "output_type": "stream",
          "text": [
            "pointsArray:  (10,) \n",
            " priceMatrix:  (5, 5)\n"
          ]
        }
      ],
      "source": [
        "shapeArray = pointsArray.shape\n",
        "shapeMatrix = priceMatrix.shape\n",
        "print(\"pointsArray: \",shapeArray, \"\\n\",\"priceMatrix: \", shapeMatrix)"
      ]
    },
    {
      "cell_type": "markdown",
      "metadata": {
        "id": "bpY-N8QZjdW-"
      },
      "source": [
        "5. Створіть одновимірний масив за допомогою спеціальної функції numpy, який би відображав динаміку стабільно зростаючого (з рівними проміжками) прибутку з продажів  за тиждень, де у перший день не було продажів, а в останній день тижня вдалося заробити 1000 грн 50 коп."
      ]
    },
    {
      "cell_type": "code",
      "execution_count": null,
      "metadata": {
        "colab": {
          "base_uri": "https://localhost:8080/"
        },
        "id": "r3LcjnUKjdeu",
        "outputId": "dc3a7221-ce32-4cf1-a632-eab4711d4da3"
      },
      "outputs": [
        {
          "name": "stdout",
          "output_type": "stream",
          "text": [
            "[   0.    166.75  333.5   500.25  667.    833.75 1000.5 ]\n"
          ]
        }
      ],
      "source": [
        "growth = np.linspace(0, 1000.50, 7)\n",
        "print(growth)"
      ]
    },
    {
      "cell_type": "markdown",
      "metadata": {
        "id": "zQM0SY9jjebO"
      },
      "source": [
        "6. Створіть два масиви. Використовуючи їх, продемонструйте відмінність вертикального та горизонтального обʼєднання масивів."
      ]
    },
    {
      "cell_type": "code",
      "execution_count": null,
      "metadata": {
        "colab": {
          "base_uri": "https://localhost:8080/"
        },
        "id": "8uoi0_lxjeh-",
        "outputId": "d5e21a94-163d-46a5-fa32-fb8937645df6"
      },
      "outputs": [
        {
          "name": "stdout",
          "output_type": "stream",
          "text": [
            "Vertical array:  \n",
            " [[2 6 5]\n",
            " [8 1 4]]\n",
            "Horizontal array:  \n",
            " [2 6 5 8 1 4]\n"
          ]
        }
      ],
      "source": [
        "firstArray = [2, 6, 5]\n",
        "secondArray = [8, 1, 4]\n",
        "\n",
        "verticalArray = np.vstack((firstArray, secondArray))\n",
        "horizontalArray = np.hstack((firstArray, secondArray))\n",
        "\n",
        "print(\"Vertical array: \",\"\\n\", verticalArray)\n",
        "print(\"Horizontal array: \",\"\\n\", horizontalArray)"
      ]
    },
    {
      "cell_type": "markdown",
      "metadata": {
        "id": "Fwh5D1pDm3t7"
      },
      "source": [
        "7. Визначити функцію, яка приймає на вході масив і транспонує його. Скористайтесь методом reshape. І не забудьте почати з docstrings."
      ]
    },
    {
      "cell_type": "code",
      "execution_count": null,
      "metadata": {
        "colab": {
          "base_uri": "https://localhost:8080/"
        },
        "id": "FSWZq0mkm31Z",
        "outputId": "028720a4-ebe0-4bc8-fd5f-87f6bda7d9ce"
      },
      "outputs": [
        {
          "name": "stdout",
          "output_type": "stream",
          "text": [
            "[[2 2 3 4 5]\n",
            " [4 4 3 4 5]]\n"
          ]
        }
      ],
      "source": [
        "reshapedArray = pointsArray.reshape(2, 5)\n",
        "print(reshapedArray)"
      ]
    },
    {
      "cell_type": "markdown",
      "metadata": {
        "id": "Nnxk8vqYm379"
      },
      "source": [
        "8. Створіть два масиви. Використовучи ці масиви, продемонструйте 1) операцію по-елементного додавання, 2) операцію по-елементного віднімання, 3) множення масиву на число, 4) операцію по-елементного множення, і 5) матричного множення."
      ]
    },
    {
      "cell_type": "code",
      "execution_count": null,
      "metadata": {
        "colab": {
          "base_uri": "https://localhost:8080/"
        },
        "id": "qO1rfvmVm4BI",
        "outputId": "aec416af-b918-4875-dd03-f7ec65047004"
      },
      "outputs": [
        {
          "name": "stdout",
          "output_type": "stream",
          "text": [
            "1)  [12 14  3  3]\n",
            "2)  [-4 -4  3 -1]\n",
            "3)  [ 8 10  6  2] [24 27  0  6]\n",
            "4)  [32 45  0  2]\n",
            "5) \n",
            " [[32 46]\n",
            " [24 29]]\n"
          ]
        }
      ],
      "source": [
        "arrayFirst = np.array([4, 5, 3, 1])\n",
        "arraySecond = np.array([8, 9, 0, 2])\n",
        "\n",
        "arraySum = arrayFirst + arraySecond\n",
        "print(\"1) \", arraySum)\n",
        "\n",
        "arraySubtraction = arrayFirst - arraySecond\n",
        "print(\"2) \", arraySubtraction)\n",
        "\n",
        "arrayScaledFirst = arrayFirst * 2\n",
        "arrayScaledSecond = arraySecond * 3\n",
        "print(\"3) \", arrayScaledFirst, arrayScaledSecond)\n",
        "\n",
        "arrayMultiplication = arrayFirst * arraySecond\n",
        "print(\"4) \", arrayMultiplication)\n",
        "\n",
        "firstMatrix = arrayFirst.reshape(2, 2)\n",
        "secondMatrix = arraySecond.reshape(2, 2)\n",
        "matrixMultiplication = np.dot(firstMatrix, secondMatrix)\n",
        "print(\"5) \\n\", matrixMultiplication)"
      ]
    },
    {
      "cell_type": "markdown",
      "metadata": {
        "id": "7aGdszTGuMCC"
      },
      "source": [
        "9. Створіть двовимірний масив (матрицю) та розрахуйте: 1) мінімальне число, 2) максимальне число, 3) суму чисел, 4) мінімальні числа для кожного рядка, 5) максимальні числа для кожного стовпчика."
      ]
    },
    {
      "cell_type": "code",
      "execution_count": null,
      "metadata": {
        "colab": {
          "base_uri": "https://localhost:8080/"
        },
        "id": "RL_39YdauMKS",
        "outputId": "05c3721a-130a-41ed-fef1-434a5277c695"
      },
      "outputs": [
        {
          "name": "stdout",
          "output_type": "stream",
          "text": [
            "1) 0\n",
            "2) 8\n",
            "3) 22\n",
            "4) [0 2]\n",
            "5) [2 8 6]\n"
          ]
        }
      ],
      "source": [
        "matrix = np.array([[1, 0, 5], [2, 8, 6]])\n",
        "\n",
        "minNum = np.min(matrix)\n",
        "print(\"1)\", minNum)\n",
        "\n",
        "maxNum = np.max(matrix)\n",
        "print(\"2)\", maxNum)\n",
        "\n",
        "sumNum = np.sum(matrix)\n",
        "print(\"3)\", sumNum)\n",
        "\n",
        "minNumRow = np.min(matrix, axis = 1)\n",
        "print(\"4)\", minNumRow)\n",
        "\n",
        "maxNumColumn = np.max(matrix, axis = 0)\n",
        "print(\"5)\", maxNumColumn)\n"
      ]
    },
    {
      "cell_type": "markdown",
      "metadata": {
        "id": "c_hNdOpjHRFo"
      },
      "source": [
        "10. Створіть матрицю , де деякі елементи повторюються. Знайдіть унікальні значення елементів цієї матриці та їхні частоти."
      ]
    },
    {
      "cell_type": "code",
      "execution_count": null,
      "metadata": {
        "colab": {
          "base_uri": "https://localhost:8080/"
        },
        "id": "qdl8AQvxHF_c",
        "outputId": "2ce192d1-9298-4e23-c6a7-38533b209fe7"
      },
      "outputs": [
        {
          "name": "stdout",
          "output_type": "stream",
          "text": [
            "Numeric  1 counter  1\n",
            "Numeric  2 counter  3\n",
            "Numeric  3 counter  1\n",
            "Numeric  4 counter  2\n",
            "Numeric  5 counter  2\n",
            "Numeric  6 counter  1\n",
            "Numeric  8 counter  2\n"
          ]
        }
      ],
      "source": [
        "matrixWithRepeat = [[1, 2, 2], [4, 5, 6], [5, 4, 8], [8, 3, 2]]\n",
        "uniqueNum, counter = np.unique(matrixWithRepeat, return_counts = True)\n",
        "\n",
        "for value, count in zip(uniqueNum, counter):\n",
        "  print(\"Numeric \", value, \"counter \", count)"
      ]
    },
    {
      "cell_type": "markdown",
      "metadata": {
        "id": "Usj7tyjnprEV"
      },
      "source": [
        "# II. Importing. Creating DF"
      ]
    },
    {
      "cell_type": "markdown",
      "metadata": {
        "id": "ePGNrYa6pxRY"
      },
      "source": [
        "0. Імпортувати бібліотеку pandas"
      ]
    },
    {
      "cell_type": "code",
      "execution_count": null,
      "metadata": {
        "id": "KIPDNBqQpvkI"
      },
      "outputs": [],
      "source": [
        "import pandas as pd"
      ]
    },
    {
      "cell_type": "markdown",
      "metadata": {
        "id": "8g9-hgi5qWJv"
      },
      "source": [
        "11. Створити тестовий датафрейм зі списку, що містить записи пацієнтів про їхні прізвища, імена, дату народження, масу тіла та наявність медичного страхування. Одне зі значень зробить пустим. Ознайомтесь з типом кожної колонки."
      ]
    },
    {
      "cell_type": "code",
      "execution_count": null,
      "metadata": {
        "colab": {
          "base_uri": "https://localhost:8080/"
        },
        "id": "OvA4GvJ5qYb1",
        "outputId": "262b00c0-24b4-4a78-be7b-fd4dd7361154"
      },
      "outputs": [
        {
          "name": "stdout",
          "output_type": "stream",
          "text": [
            "lastName           object\n",
            "firstName          object\n",
            "dateOfBirth         int64\n",
            "weight              int64\n",
            "healthInsurance      bool\n",
            "dtype: object\n"
          ]
        }
      ],
      "source": [
        "hospitalData = [[\"Fairfield\", \"Dwight\", 1990, 70, True],\n",
        "                [\"Thomas\", \"Meg\", 1999, 50, False],\n",
        "                [\"Park\", \"Jake\", 1996, 74, True],\n",
        "                [\"Min\", None, 2000, 53, True]]\n",
        "\n",
        "df = pd.DataFrame(hospitalData, columns=[\"lastName\", \"firstName\", \"dateOfBirth\", \"weight\", \"healthInsurance\"])\n",
        "\n",
        "print(df.dtypes)"
      ]
    },
    {
      "cell_type": "markdown",
      "metadata": {
        "id": "b1SvVHjjqcv-"
      },
      "source": [
        "# III. Reading from file"
      ]
    },
    {
      "cell_type": "markdown",
      "metadata": {
        "id": "7HhZWLs_qhgq"
      },
      "source": [
        "12. Завантажити файл missile_attacks_daily.csv з [Kaggle](https://www.kaggle.com/datasets/piterfm/massive-missile-attacks-on-ukraine?select=missile_attacks_daily.csv). Ознайомитись з описом датасету. Додати файл до папки поточної сесії colab notebook на панелі ліворуч або на гугл диск (локально до проєкту, якщо працюєте у пайчармі). Зчитати датафрейм з файлу та вивести датафрейм на екран. Зверніть увагу на те, щоб всі колонки відповідали наведеним у описі типам даних."
      ]
    },
    {
      "cell_type": "code",
      "execution_count": null,
      "metadata": {
        "colab": {
          "base_uri": "https://localhost:8080/",
          "height": 1000
        },
        "id": "oQcB3kIqqg0h",
        "outputId": "a13720ea-5679-4b27-bc7c-58ceaf603179"
      },
      "outputs": [
        {
          "output_type": "display_data",
          "data": {
            "text/plain": [
              "<IPython.core.display.HTML object>"
            ],
            "text/html": [
              "\n",
              "     <input type=\"file\" id=\"files-af05d5c8-818d-4f9e-be18-92cd5934a6df\" name=\"files[]\" multiple disabled\n",
              "        style=\"border:none\" />\n",
              "     <output id=\"result-af05d5c8-818d-4f9e-be18-92cd5934a6df\">\n",
              "      Upload widget is only available when the cell has been executed in the\n",
              "      current browser session. Please rerun this cell to enable.\n",
              "      </output>\n",
              "      <script>// Copyright 2017 Google LLC\n",
              "//\n",
              "// Licensed under the Apache License, Version 2.0 (the \"License\");\n",
              "// you may not use this file except in compliance with the License.\n",
              "// You may obtain a copy of the License at\n",
              "//\n",
              "//      http://www.apache.org/licenses/LICENSE-2.0\n",
              "//\n",
              "// Unless required by applicable law or agreed to in writing, software\n",
              "// distributed under the License is distributed on an \"AS IS\" BASIS,\n",
              "// WITHOUT WARRANTIES OR CONDITIONS OF ANY KIND, either express or implied.\n",
              "// See the License for the specific language governing permissions and\n",
              "// limitations under the License.\n",
              "\n",
              "/**\n",
              " * @fileoverview Helpers for google.colab Python module.\n",
              " */\n",
              "(function(scope) {\n",
              "function span(text, styleAttributes = {}) {\n",
              "  const element = document.createElement('span');\n",
              "  element.textContent = text;\n",
              "  for (const key of Object.keys(styleAttributes)) {\n",
              "    element.style[key] = styleAttributes[key];\n",
              "  }\n",
              "  return element;\n",
              "}\n",
              "\n",
              "// Max number of bytes which will be uploaded at a time.\n",
              "const MAX_PAYLOAD_SIZE = 100 * 1024;\n",
              "\n",
              "function _uploadFiles(inputId, outputId) {\n",
              "  const steps = uploadFilesStep(inputId, outputId);\n",
              "  const outputElement = document.getElementById(outputId);\n",
              "  // Cache steps on the outputElement to make it available for the next call\n",
              "  // to uploadFilesContinue from Python.\n",
              "  outputElement.steps = steps;\n",
              "\n",
              "  return _uploadFilesContinue(outputId);\n",
              "}\n",
              "\n",
              "// This is roughly an async generator (not supported in the browser yet),\n",
              "// where there are multiple asynchronous steps and the Python side is going\n",
              "// to poll for completion of each step.\n",
              "// This uses a Promise to block the python side on completion of each step,\n",
              "// then passes the result of the previous step as the input to the next step.\n",
              "function _uploadFilesContinue(outputId) {\n",
              "  const outputElement = document.getElementById(outputId);\n",
              "  const steps = outputElement.steps;\n",
              "\n",
              "  const next = steps.next(outputElement.lastPromiseValue);\n",
              "  return Promise.resolve(next.value.promise).then((value) => {\n",
              "    // Cache the last promise value to make it available to the next\n",
              "    // step of the generator.\n",
              "    outputElement.lastPromiseValue = value;\n",
              "    return next.value.response;\n",
              "  });\n",
              "}\n",
              "\n",
              "/**\n",
              " * Generator function which is called between each async step of the upload\n",
              " * process.\n",
              " * @param {string} inputId Element ID of the input file picker element.\n",
              " * @param {string} outputId Element ID of the output display.\n",
              " * @return {!Iterable<!Object>} Iterable of next steps.\n",
              " */\n",
              "function* uploadFilesStep(inputId, outputId) {\n",
              "  const inputElement = document.getElementById(inputId);\n",
              "  inputElement.disabled = false;\n",
              "\n",
              "  const outputElement = document.getElementById(outputId);\n",
              "  outputElement.innerHTML = '';\n",
              "\n",
              "  const pickedPromise = new Promise((resolve) => {\n",
              "    inputElement.addEventListener('change', (e) => {\n",
              "      resolve(e.target.files);\n",
              "    });\n",
              "  });\n",
              "\n",
              "  const cancel = document.createElement('button');\n",
              "  inputElement.parentElement.appendChild(cancel);\n",
              "  cancel.textContent = 'Cancel upload';\n",
              "  const cancelPromise = new Promise((resolve) => {\n",
              "    cancel.onclick = () => {\n",
              "      resolve(null);\n",
              "    };\n",
              "  });\n",
              "\n",
              "  // Wait for the user to pick the files.\n",
              "  const files = yield {\n",
              "    promise: Promise.race([pickedPromise, cancelPromise]),\n",
              "    response: {\n",
              "      action: 'starting',\n",
              "    }\n",
              "  };\n",
              "\n",
              "  cancel.remove();\n",
              "\n",
              "  // Disable the input element since further picks are not allowed.\n",
              "  inputElement.disabled = true;\n",
              "\n",
              "  if (!files) {\n",
              "    return {\n",
              "      response: {\n",
              "        action: 'complete',\n",
              "      }\n",
              "    };\n",
              "  }\n",
              "\n",
              "  for (const file of files) {\n",
              "    const li = document.createElement('li');\n",
              "    li.append(span(file.name, {fontWeight: 'bold'}));\n",
              "    li.append(span(\n",
              "        `(${file.type || 'n/a'}) - ${file.size} bytes, ` +\n",
              "        `last modified: ${\n",
              "            file.lastModifiedDate ? file.lastModifiedDate.toLocaleDateString() :\n",
              "                                    'n/a'} - `));\n",
              "    const percent = span('0% done');\n",
              "    li.appendChild(percent);\n",
              "\n",
              "    outputElement.appendChild(li);\n",
              "\n",
              "    const fileDataPromise = new Promise((resolve) => {\n",
              "      const reader = new FileReader();\n",
              "      reader.onload = (e) => {\n",
              "        resolve(e.target.result);\n",
              "      };\n",
              "      reader.readAsArrayBuffer(file);\n",
              "    });\n",
              "    // Wait for the data to be ready.\n",
              "    let fileData = yield {\n",
              "      promise: fileDataPromise,\n",
              "      response: {\n",
              "        action: 'continue',\n",
              "      }\n",
              "    };\n",
              "\n",
              "    // Use a chunked sending to avoid message size limits. See b/62115660.\n",
              "    let position = 0;\n",
              "    do {\n",
              "      const length = Math.min(fileData.byteLength - position, MAX_PAYLOAD_SIZE);\n",
              "      const chunk = new Uint8Array(fileData, position, length);\n",
              "      position += length;\n",
              "\n",
              "      const base64 = btoa(String.fromCharCode.apply(null, chunk));\n",
              "      yield {\n",
              "        response: {\n",
              "          action: 'append',\n",
              "          file: file.name,\n",
              "          data: base64,\n",
              "        },\n",
              "      };\n",
              "\n",
              "      let percentDone = fileData.byteLength === 0 ?\n",
              "          100 :\n",
              "          Math.round((position / fileData.byteLength) * 100);\n",
              "      percent.textContent = `${percentDone}% done`;\n",
              "\n",
              "    } while (position < fileData.byteLength);\n",
              "  }\n",
              "\n",
              "  // All done.\n",
              "  yield {\n",
              "    response: {\n",
              "      action: 'complete',\n",
              "    }\n",
              "  };\n",
              "}\n",
              "\n",
              "scope.google = scope.google || {};\n",
              "scope.google.colab = scope.google.colab || {};\n",
              "scope.google.colab._files = {\n",
              "  _uploadFiles,\n",
              "  _uploadFilesContinue,\n",
              "};\n",
              "})(self);\n",
              "</script> "
            ]
          },
          "metadata": {}
        },
        {
          "output_type": "stream",
          "name": "stdout",
          "text": [
            "Saving missile_attacks_daily.csv to missile_attacks_daily (6).csv\n",
            "            time_start          time_end               model  \\\n",
            "0     2025-02-01 21:00  2025-02-02 09:00      Shahed-136/131   \n",
            "1     2025-01-31 19:00  2025-02-01 09:00           X-59/X-69   \n",
            "2     2025-01-31 19:00  2025-02-01 09:00               X-31P   \n",
            "3     2025-01-31 19:00  2025-02-01 09:00           X-22/X-32   \n",
            "4     2025-01-31 19:00  2025-02-01 09:00         X-101/X-555   \n",
            "...                ...               ...                 ...   \n",
            "2069  2022-10-01 12:00  2022-10-01 12:00            Orlan-10   \n",
            "2070        2022-09-30        2022-09-30            Orlan-10   \n",
            "2071  2022-09-29 23:00  2022-09-29 23:59      Shahed-136/131   \n",
            "2072        2022-09-28        2022-09-28                X-59   \n",
            "2073        2022-09-28        2022-09-28  Reconnaissance UAV   \n",
            "\n",
            "                                           launch_place  \\\n",
            "0     Primorsko-Akhtarsk and Kursk oblast and Oryol ...   \n",
            "1                                       Voronezh oblast   \n",
            "2                                             Black Sea   \n",
            "3                                                   NaN   \n",
            "4                                                   NaN   \n",
            "...                                                 ...   \n",
            "2069                                                NaN   \n",
            "2070                                                NaN   \n",
            "2071                                                NaN   \n",
            "2072                                                NaN   \n",
            "2073                                                NaN   \n",
            "\n",
            "                                             target  carrier  launched  \\\n",
            "0                                           Ukraine      NaN      55.0   \n",
            "1                                           Ukraine      NaN      10.0   \n",
            "2                                           Ukraine      NaN       2.0   \n",
            "3                                           Ukraine  Tu-22M3       8.0   \n",
            "4                                           Ukraine  Tu-95MS       8.0   \n",
            "...                                             ...      ...       ...   \n",
            "2069                                        Ukraine      NaN       1.0   \n",
            "2070                                        Ukraine      NaN       3.0   \n",
            "2071               Odesa oblast and Mykolaiv oblast      NaN       7.0   \n",
            "2072  Dnipropetrovsk oblast and Zaporizhzhia oblast    Su-35       5.0   \n",
            "2073                                        Ukraine      NaN       3.0   \n",
            "\n",
            "     destroyed  not_reach_goal  cross_border_belarus  back_russia  \\\n",
            "0           40            13.0                   NaN          NaN   \n",
            "1      Unknown             NaN                   NaN          NaN   \n",
            "2      Unknown             NaN                   NaN          NaN   \n",
            "3      Unknown             NaN                   NaN          NaN   \n",
            "4      Unknown             NaN                   NaN          NaN   \n",
            "...        ...             ...                   ...          ...   \n",
            "2069         1             NaN                   NaN          NaN   \n",
            "2070         3             NaN                   NaN          NaN   \n",
            "2071         5             NaN                   NaN          NaN   \n",
            "2072         4             NaN                   NaN          NaN   \n",
            "2073         3             NaN                   NaN          NaN   \n",
            "\n",
            "      still_attacking                    affected region  \\\n",
            "0                 NaN  ['Kharkiv oblast', 'Sumy oblast']   \n",
            "1                 NaN                                NaN   \n",
            "2                 NaN                                NaN   \n",
            "3                 NaN                                NaN   \n",
            "4                 NaN                                NaN   \n",
            "...               ...                                ...   \n",
            "2069              NaN                                NaN   \n",
            "2070              NaN                                NaN   \n",
            "2071              NaN                                NaN   \n",
            "2072              NaN                                NaN   \n",
            "2073              NaN                                NaN   \n",
            "\n",
            "                                      destroyed_details launched_details  \\\n",
            "0     {'Odesa oblast and Mykolaiv oblast and Kherson...              NaN   \n",
            "1                                                   NaN              NaN   \n",
            "2                                                   NaN              NaN   \n",
            "3                                                   NaN              NaN   \n",
            "4                                                   NaN              NaN   \n",
            "...                                                 ...              ...   \n",
            "2069                                                NaN              NaN   \n",
            "2070                                                NaN              NaN   \n",
            "2071                                                NaN              NaN   \n",
            "2072                                                NaN              NaN   \n",
            "2073                                                NaN              NaN   \n",
            "\n",
            "     launch_place_details                                             source  \n",
            "0                     NaN  kpszsu/posts/pfbid027MDQHcpoaCZUeSLdSzw2kokeGh...  \n",
            "1                     NaN  kpszsu/posts/pfbid0aFVytMd4cuXwcV5sNnABLnxXo3r...  \n",
            "2                     NaN  kpszsu/posts/pfbid0aFVytMd4cuXwcV5sNnABLnxXo3r...  \n",
            "3                     NaN  kpszsu/posts/pfbid0aFVytMd4cuXwcV5sNnABLnxXo3r...  \n",
            "4                     NaN  kpszsu/posts/pfbid0aFVytMd4cuXwcV5sNnABLnxXo3r...  \n",
            "...                   ...                                                ...  \n",
            "2069                  NaN                           watch/?v=375517448001233  \n",
            "2070                  NaN  kpszsu/posts/pfbid0nELeXY4BpHrezv54Lk3gWPZJmcC...  \n",
            "2071                  NaN  kpszsu/posts/pfbid021aK2TqryAuB8gGrDYMTv3R8Xiu...  \n",
            "2072                  NaN  kpszsu/posts/pfbid02sjn5m7kosAfsm5bSUzpPwbLuH3...  \n",
            "2073                  NaN  kpszsu/posts/pfbid0grmBx6A5LbQ7PVTkSx7jTDgg4iU...  \n",
            "\n",
            "[2074 rows x 17 columns]\n"
          ]
        }
      ],
      "source": [
        "from google.colab import files\n",
        "uploaded = files.upload()\n",
        "\n",
        "df = pd.read_csv('missile_attacks_daily.csv')\n",
        "print(df)"
      ]
    },
    {
      "cell_type": "markdown",
      "metadata": {
        "id": "89zu0WNErzd2"
      },
      "source": [
        "# IV. Data understanding"
      ]
    },
    {
      "cell_type": "markdown",
      "metadata": {
        "id": "LJqrTfHr2d1G"
      },
      "source": [
        "13. Виведіть на екран перші 10 рядків зчитаного датафрейму."
      ]
    },
    {
      "cell_type": "code",
      "execution_count": null,
      "metadata": {
        "colab": {
          "base_uri": "https://localhost:8080/"
        },
        "id": "GdVE9WYwr1sD",
        "outputId": "ed2bcf42-2efd-482d-f159-440e44a7bc90"
      },
      "outputs": [
        {
          "name": "stdout",
          "output_type": "stream",
          "text": [
            "         time_start          time_end             model  \\\n",
            "0  2025-02-01 21:00  2025-02-02 09:00    Shahed-136/131   \n",
            "1  2025-01-31 19:00  2025-02-01 09:00         X-59/X-69   \n",
            "2  2025-01-31 19:00  2025-02-01 09:00             X-31P   \n",
            "3  2025-01-31 19:00  2025-02-01 09:00         X-22/X-32   \n",
            "4  2025-01-31 19:00  2025-02-01 09:00       X-101/X-555   \n",
            "5  2025-01-31 19:00  2025-02-01 09:00    Shahed-136/131   \n",
            "6  2025-01-31 19:00  2025-02-01 09:00  Iskander-M/KN-23   \n",
            "7  2025-01-31 19:00  2025-02-01 09:00        Iskander-K   \n",
            "8  2025-01-31 19:00  2025-01-31 21:00          Orlan-10   \n",
            "9  2025-01-31 19:00  2025-01-31 20:05        Iskander-M   \n",
            "\n",
            "                                        launch_place   target  carrier  \\\n",
            "0  Primorsko-Akhtarsk and Kursk oblast and Oryol ...  Ukraine      NaN   \n",
            "1                                    Voronezh oblast  Ukraine      NaN   \n",
            "2                                          Black Sea  Ukraine      NaN   \n",
            "3                                                NaN  Ukraine  Tu-22M3   \n",
            "4                                                NaN  Ukraine  Tu-95MS   \n",
            "5  Primorsko-Akhtarsk and Chauda, Crimea and Kurs...  Ukraine      NaN   \n",
            "6                                    Voronezh oblast  Ukraine      NaN   \n",
            "7                          Crimea and Donetsk oblast  Ukraine      NaN   \n",
            "8                                             Crimea    Odesa      NaN   \n",
            "9                                             Crimea    Odesa      NaN   \n",
            "\n",
            "   launched destroyed  not_reach_goal  cross_border_belarus  back_russia  \\\n",
            "0      55.0        40            13.0                   NaN          NaN   \n",
            "1      10.0   Unknown             NaN                   NaN          NaN   \n",
            "2       2.0   Unknown             NaN                   NaN          NaN   \n",
            "3       8.0   Unknown             NaN                   NaN          NaN   \n",
            "4       8.0   Unknown             NaN                   NaN          NaN   \n",
            "5     123.0        56            61.0                   NaN          NaN   \n",
            "6       4.0         0             NaN                   NaN          NaN   \n",
            "7       7.0         0             NaN                   NaN          NaN   \n",
            "8       1.0         1             NaN                   NaN          NaN   \n",
            "9       3.0         0             NaN                   NaN          NaN   \n",
            "\n",
            "   still_attacking                                    affected region  \\\n",
            "0              NaN                  ['Kharkiv oblast', 'Sumy oblast']   \n",
            "1              NaN                                                NaN   \n",
            "2              NaN                                                NaN   \n",
            "3              NaN                                                NaN   \n",
            "4              NaN                                                NaN   \n",
            "5              NaN  ['Kharkiv oblast', 'Sumy oblast', 'Zaporizhzhi...   \n",
            "6              NaN                                                NaN   \n",
            "7              NaN                                                NaN   \n",
            "8              NaN                                                NaN   \n",
            "9              NaN                                                NaN   \n",
            "\n",
            "                                   destroyed_details launched_details  \\\n",
            "0  {'Odesa oblast and Mykolaiv oblast and Kherson...              NaN   \n",
            "1                                                NaN              NaN   \n",
            "2                                                NaN              NaN   \n",
            "3                                                NaN              NaN   \n",
            "4                                                NaN              NaN   \n",
            "5                             {'west': 8, 'east': 2}              NaN   \n",
            "6                                                NaN              NaN   \n",
            "7                                                NaN              NaN   \n",
            "8                                                NaN              NaN   \n",
            "9                                                NaN              NaN   \n",
            "\n",
            "  launch_place_details                                             source  \n",
            "0                  NaN  kpszsu/posts/pfbid027MDQHcpoaCZUeSLdSzw2kokeGh...  \n",
            "1                  NaN  kpszsu/posts/pfbid0aFVytMd4cuXwcV5sNnABLnxXo3r...  \n",
            "2                  NaN  kpszsu/posts/pfbid0aFVytMd4cuXwcV5sNnABLnxXo3r...  \n",
            "3                  NaN  kpszsu/posts/pfbid0aFVytMd4cuXwcV5sNnABLnxXo3r...  \n",
            "4                  NaN  kpszsu/posts/pfbid0aFVytMd4cuXwcV5sNnABLnxXo3r...  \n",
            "5                  NaN  kpszsu/posts/pfbid0aFVytMd4cuXwcV5sNnABLnxXo3r...  \n",
            "6                  NaN  kpszsu/posts/pfbid0aFVytMd4cuXwcV5sNnABLnxXo3r...  \n",
            "7                  NaN  kpszsu/posts/pfbid0aFVytMd4cuXwcV5sNnABLnxXo3r...  \n",
            "8                  NaN  PvKPivden/posts/pfbid0geba6FrM4KMftaj7x4cM3b3Z...  \n",
            "9                  NaN  PvKPivden/posts/pfbid0geba6FrM4KMftaj7x4cM3b3Z...  \n"
          ]
        }
      ],
      "source": [
        "print(df.head(10))"
      ]
    },
    {
      "cell_type": "markdown",
      "metadata": {
        "id": "1PtkLHWj2lq0"
      },
      "source": [
        "14. Отримайте інформацію про форму датафрейму."
      ]
    },
    {
      "cell_type": "code",
      "execution_count": null,
      "metadata": {
        "colab": {
          "base_uri": "https://localhost:8080/"
        },
        "id": "CBPTYTjV2mtG",
        "outputId": "b95d3282-6cc3-42f0-a92d-cea414aa274b"
      },
      "outputs": [
        {
          "name": "stdout",
          "output_type": "stream",
          "text": [
            "(2074, 17)\n"
          ]
        }
      ],
      "source": [
        "print(df.shape)"
      ]
    },
    {
      "cell_type": "markdown",
      "metadata": {
        "id": "GDVcFC6F2yVz"
      },
      "source": [
        "15. Отримайте дані про кожну колонку з її назвою, типом даних та кількістю непустих значень."
      ]
    },
    {
      "cell_type": "code",
      "execution_count": null,
      "metadata": {
        "colab": {
          "base_uri": "https://localhost:8080/"
        },
        "id": "GTRgfKJ920bn",
        "outputId": "0428f1ef-402f-4570-f48c-aae77749f98f"
      },
      "outputs": [
        {
          "name": "stdout",
          "output_type": "stream",
          "text": [
            "<class 'pandas.core.frame.DataFrame'>\n",
            "RangeIndex: 2074 entries, 0 to 2073\n",
            "Data columns (total 17 columns):\n",
            " #   Column                Non-Null Count  Dtype  \n",
            "---  ------                --------------  -----  \n",
            " 0   time_start            2074 non-null   object \n",
            " 1   time_end              2074 non-null   object \n",
            " 2   model                 2074 non-null   object \n",
            " 3   launch_place          1049 non-null   object \n",
            " 4   target                2046 non-null   object \n",
            " 5   carrier               227 non-null    object \n",
            " 6   launched              2071 non-null   float64\n",
            " 7   destroyed             2074 non-null   object \n",
            " 8   not_reach_goal        171 non-null    float64\n",
            " 9   cross_border_belarus  33 non-null     float64\n",
            " 10  back_russia           35 non-null     float64\n",
            " 11  still_attacking       31 non-null     float64\n",
            " 12  affected region       7 non-null      object \n",
            " 13  destroyed_details     308 non-null    object \n",
            " 14  launched_details      4 non-null      object \n",
            " 15  launch_place_details  4 non-null      object \n",
            " 16  source                2074 non-null   object \n",
            "dtypes: float64(5), object(12)\n",
            "memory usage: 275.6+ KB\n",
            "None\n"
          ]
        }
      ],
      "source": [
        "print(df.info())"
      ]
    },
    {
      "cell_type": "markdown",
      "metadata": {
        "id": "DEy-hgsw2452"
      },
      "source": [
        "16. Отримайте статистику для колонок числового типу."
      ]
    },
    {
      "cell_type": "code",
      "execution_count": null,
      "metadata": {
        "colab": {
          "base_uri": "https://localhost:8080/"
        },
        "id": "94mI2N9t267Q",
        "outputId": "c0a7533b-d0f8-4c73-8d17-0d8509430071"
      },
      "outputs": [
        {
          "name": "stdout",
          "output_type": "stream",
          "text": [
            "          launched  not_reach_goal  cross_border_belarus  back_russia  \\\n",
            "count  2071.000000      171.000000             33.000000    35.000000   \n",
            "mean     11.100435       21.701754              2.303030     2.000000   \n",
            "std      22.032465       19.785882              2.023068     1.137593   \n",
            "min       1.000000        1.000000              1.000000     1.000000   \n",
            "25%       1.000000        4.500000              1.000000     1.000000   \n",
            "50%       2.000000       17.000000              2.000000     2.000000   \n",
            "75%       9.000000       31.000000              2.000000     3.000000   \n",
            "max     193.000000      105.000000             10.000000     5.000000   \n",
            "\n",
            "       still_attacking  \n",
            "count        31.000000  \n",
            "mean          2.709677  \n",
            "std           2.818907  \n",
            "min           1.000000  \n",
            "25%           1.000000  \n",
            "50%           1.000000  \n",
            "75%           3.500000  \n",
            "max          10.000000  \n"
          ]
        }
      ],
      "source": [
        "print(df.describe())"
      ]
    },
    {
      "cell_type": "markdown",
      "metadata": {
        "id": "n0MGJU2C2-iD"
      },
      "source": [
        "17. Отримати кількість унікальних значень у кожній колонці. Вивести на екран значення та кількість цих значень у колонці, яка має найменше унікальних значень."
      ]
    },
    {
      "cell_type": "code",
      "execution_count": null,
      "metadata": {
        "colab": {
          "base_uri": "https://localhost:8080/"
        },
        "id": "lQh_jdGe3BK5",
        "outputId": "cac80e8b-f5b6-44b8-ca91-d97c7c1a8a8e"
      },
      "outputs": [
        {
          "name": "stdout",
          "output_type": "stream",
          "text": [
            "launched_details\n",
            "{'X-101/X-555': 50, 'Kalibr': 12}                     1\n",
            "{'X-101/X-555': 55, 'Kalibr': 24, 'Iskander-K': 7}    1\n",
            "{'X-101/X-555': 57, 'Kalibr': 28}                     1\n",
            "{'X-101/X-555': 77, 'Kalibr': 28, 'X-59/X-69': 10}    1\n",
            "Name: count, dtype: int64\n"
          ]
        }
      ],
      "source": [
        "minUnique = df.nunique().idxmin()\n",
        "minCount = df[minUnique].value_counts()\n",
        "\n",
        "print(minCount)"
      ]
    },
    {
      "cell_type": "markdown",
      "metadata": {
        "id": "iVRkzUti3uC_"
      },
      "source": [
        "18. На основі отриманої інформації про датасет вище, опишіть по пунктах, що б ви виправили або на що б звернули увагу на кроці очищення даних і чому?"
      ]
    },
    {
      "cell_type": "markdown",
      "metadata": {
        "id": "9_Q-Fcuo30zY"
      },
      "source": [
        "**місце для текстової відповіді**\n",
        "\n",
        "1.   Пункт списку\n",
        "2.   Пункт списку\n",
        "\n",
        "...\n"
      ]
    },
    {
      "cell_type": "markdown",
      "metadata": {
        "id": "MDntpkrFQNEl"
      },
      "source": [
        "1) Очищення від дублікатів\n",
        "2) Виправлення аномалій"
      ]
    },
    {
      "cell_type": "markdown",
      "metadata": {
        "id": "Ue9ECz5-3_pq"
      },
      "source": [
        "# V. Data Cleaning"
      ]
    },
    {
      "cell_type": "markdown",
      "metadata": {
        "id": "ZtHUiSrV4CL-"
      },
      "source": [
        "19. Перетворити колонку launched у цілочислену (Int64). Перевірити, чи все пройшло, як очікувалось."
      ]
    },
    {
      "cell_type": "code",
      "execution_count": null,
      "metadata": {
        "colab": {
          "base_uri": "https://localhost:8080/"
        },
        "id": "AWyo_-Un3xqz",
        "outputId": "b86b1166-445d-424f-9ae3-e9704259fa85"
      },
      "outputs": [
        {
          "name": "stdout",
          "output_type": "stream",
          "text": [
            "Int64\n"
          ]
        }
      ],
      "source": [
        "df[\"launched\"] = df[\"launched\"].astype(\"Int64\")\n",
        "print(df[\"launched\"].dtypes)"
      ]
    },
    {
      "cell_type": "markdown",
      "metadata": {
        "id": "KsHhM4EM4O3d"
      },
      "source": [
        "20. Видалити колонки, де кількість непустих значень становить менше 30% від загальної кількості записів."
      ]
    },
    {
      "cell_type": "code",
      "execution_count": null,
      "metadata": {
        "colab": {
          "base_uri": "https://localhost:8080/"
        },
        "id": "Z1ZCclle4Vyk",
        "outputId": "05fdc217-a0ac-4de9-dd23-bc3dfe04dba6"
      },
      "outputs": [
        {
          "output_type": "stream",
          "name": "stdout",
          "text": [
            "            time_start          time_end               model  \\\n",
            "0     2025-02-01 21:00  2025-02-02 09:00      Shahed-136/131   \n",
            "1     2025-01-31 19:00  2025-02-01 09:00           X-59/X-69   \n",
            "2     2025-01-31 19:00  2025-02-01 09:00               X-31P   \n",
            "3     2025-01-31 19:00  2025-02-01 09:00           X-22/X-32   \n",
            "4     2025-01-31 19:00  2025-02-01 09:00         X-101/X-555   \n",
            "...                ...               ...                 ...   \n",
            "2069  2022-10-01 12:00  2022-10-01 12:00            Orlan-10   \n",
            "2070        2022-09-30        2022-09-30            Orlan-10   \n",
            "2071  2022-09-29 23:00  2022-09-29 23:59      Shahed-136/131   \n",
            "2072        2022-09-28        2022-09-28                X-59   \n",
            "2073        2022-09-28        2022-09-28  Reconnaissance UAV   \n",
            "\n",
            "                                           launch_place  \\\n",
            "0     Primorsko-Akhtarsk and Kursk oblast and Oryol ...   \n",
            "1                                       Voronezh oblast   \n",
            "2                                             Black Sea   \n",
            "3                                                   NaN   \n",
            "4                                                   NaN   \n",
            "...                                                 ...   \n",
            "2069                                                NaN   \n",
            "2070                                                NaN   \n",
            "2071                                                NaN   \n",
            "2072                                                NaN   \n",
            "2073                                                NaN   \n",
            "\n",
            "                                             target  launched destroyed  \\\n",
            "0                                           Ukraine      55.0        40   \n",
            "1                                           Ukraine      10.0   Unknown   \n",
            "2                                           Ukraine       2.0   Unknown   \n",
            "3                                           Ukraine       8.0   Unknown   \n",
            "4                                           Ukraine       8.0   Unknown   \n",
            "...                                             ...       ...       ...   \n",
            "2069                                        Ukraine       1.0         1   \n",
            "2070                                        Ukraine       3.0         3   \n",
            "2071               Odesa oblast and Mykolaiv oblast       7.0         5   \n",
            "2072  Dnipropetrovsk oblast and Zaporizhzhia oblast       5.0         4   \n",
            "2073                                        Ukraine       3.0         3   \n",
            "\n",
            "                                                 source  \n",
            "0     kpszsu/posts/pfbid027MDQHcpoaCZUeSLdSzw2kokeGh...  \n",
            "1     kpszsu/posts/pfbid0aFVytMd4cuXwcV5sNnABLnxXo3r...  \n",
            "2     kpszsu/posts/pfbid0aFVytMd4cuXwcV5sNnABLnxXo3r...  \n",
            "3     kpszsu/posts/pfbid0aFVytMd4cuXwcV5sNnABLnxXo3r...  \n",
            "4     kpszsu/posts/pfbid0aFVytMd4cuXwcV5sNnABLnxXo3r...  \n",
            "...                                                 ...  \n",
            "2069                           watch/?v=375517448001233  \n",
            "2070  kpszsu/posts/pfbid0nELeXY4BpHrezv54Lk3gWPZJmcC...  \n",
            "2071  kpszsu/posts/pfbid021aK2TqryAuB8gGrDYMTv3R8Xiu...  \n",
            "2072  kpszsu/posts/pfbid02sjn5m7kosAfsm5bSUzpPwbLuH3...  \n",
            "2073  kpszsu/posts/pfbid0grmBx6A5LbQ7PVTkSx7jTDgg4iU...  \n",
            "\n",
            "[2074 rows x 8 columns]\n"
          ]
        }
      ],
      "source": [
        "empty = 0.3 * len(df)\n",
        "df = df.dropna(axis=1, thresh=empty)\n",
        "print(df)"
      ]
    },
    {
      "cell_type": "markdown",
      "metadata": {
        "id": "p8cD0M0U4cNT"
      },
      "source": [
        "21. Очистити датафрейм від дублікатів (дублюючихся рядків) та записів, де атака продовжувалась відʼємну або нульову кількість часу (що фізично неможливо). Не забудьте оновити індекс. Скільки рядків було видалено? Як ви це перевірили у коді?"
      ]
    },
    {
      "cell_type": "code",
      "source": [
        "df[\"time_start\"] = pd.to_datetime(df[\"time_start\"], errors='coerce')\n",
        "df[\"time_end\"] = pd.to_datetime(df[\"time_end\"], errors='coerce')\n",
        "\n",
        "df = df.drop_duplicates()\n",
        "df = df[df[\"time_end\"] > df[\"time_start\"]]\n",
        "df = df.reset_index(drop=True)\n",
        "\n",
        "print(df)"
      ],
      "metadata": {
        "colab": {
          "base_uri": "https://localhost:8080/"
        },
        "id": "-tTtXpLaUY5s",
        "outputId": "2a86e9e6-c936-46b3-dc21-63eb0545bf3c"
      },
      "execution_count": null,
      "outputs": [
        {
          "output_type": "stream",
          "name": "stdout",
          "text": [
            "             time_start            time_end           model  \\\n",
            "0   2025-02-01 21:00:00 2025-02-02 09:00:00  Shahed-136/131   \n",
            "1   2025-01-31 19:00:00 2025-02-01 09:00:00       X-59/X-69   \n",
            "2   2025-01-31 19:00:00 2025-02-01 09:00:00           X-31P   \n",
            "3   2025-01-31 19:00:00 2025-02-01 09:00:00       X-22/X-32   \n",
            "4   2025-01-31 19:00:00 2025-02-01 09:00:00     X-101/X-555   \n",
            "..                  ...                 ...             ...   \n",
            "456 2022-10-06 15:00:00 2022-10-06 20:00:00       Mohajer-6   \n",
            "457 2022-10-06 09:00:00 2022-10-06 11:30:00  Shahed-136/131   \n",
            "458 2022-10-06 09:00:00 2022-10-06 11:30:00       Mohajer-6   \n",
            "459 2022-10-02 00:00:00 2022-10-02 02:00:00  Shahed-136/131   \n",
            "460 2022-09-29 23:00:00 2022-09-29 23:59:00  Shahed-136/131   \n",
            "\n",
            "                                          launch_place  \\\n",
            "0    Primorsko-Akhtarsk and Kursk oblast and Oryol ...   \n",
            "1                                      Voronezh oblast   \n",
            "2                                            Black Sea   \n",
            "3                                                  NaN   \n",
            "4                                                  NaN   \n",
            "..                                                 ...   \n",
            "456                                                NaN   \n",
            "457                                                NaN   \n",
            "458                                                NaN   \n",
            "459                                                NaN   \n",
            "460                                                NaN   \n",
            "\n",
            "                               target  launched destroyed  \\\n",
            "0                             Ukraine      55.0        40   \n",
            "1                             Ukraine      10.0   Unknown   \n",
            "2                             Ukraine       2.0   Unknown   \n",
            "3                             Ukraine       8.0   Unknown   \n",
            "4                             Ukraine       8.0   Unknown   \n",
            "..                                ...       ...       ...   \n",
            "456                             south       1.0         1   \n",
            "457                   Mykolaiv oblast       2.0         2   \n",
            "458                   Mykolaiv oblast       1.0         1   \n",
            "459                   Mykolaiv oblast       7.0         5   \n",
            "460  Odesa oblast and Mykolaiv oblast       7.0         5   \n",
            "\n",
            "                                                source  \n",
            "0    kpszsu/posts/pfbid027MDQHcpoaCZUeSLdSzw2kokeGh...  \n",
            "1    kpszsu/posts/pfbid0aFVytMd4cuXwcV5sNnABLnxXo3r...  \n",
            "2    kpszsu/posts/pfbid0aFVytMd4cuXwcV5sNnABLnxXo3r...  \n",
            "3    kpszsu/posts/pfbid0aFVytMd4cuXwcV5sNnABLnxXo3r...  \n",
            "4    kpszsu/posts/pfbid0aFVytMd4cuXwcV5sNnABLnxXo3r...  \n",
            "..                                                 ...  \n",
            "456  kpszsu/posts/pfbid0rxEnbpvxAg8d8J5NW9ABgghPzcb...  \n",
            "457  kpszsu/posts/pfbid02YPkepucHoDQbmGfZURk8ScqNyM...  \n",
            "458  kpszsu/posts/pfbid02YPkepucHoDQbmGfZURk8ScqNyM...  \n",
            "459  kpszsu/posts/pfbid021aK2TqryAuB8gGrDYMTv3R8Xiu...  \n",
            "460  kpszsu/posts/pfbid021aK2TqryAuB8gGrDYMTv3R8Xiu...  \n",
            "\n",
            "[461 rows x 8 columns]\n"
          ]
        }
      ]
    },
    {
      "cell_type": "markdown",
      "metadata": {
        "id": "8zqL82Ie4nqY"
      },
      "source": [
        "**місце для текстової відповіді**"
      ]
    },
    {
      "cell_type": "markdown",
      "metadata": {
        "id": "SppsQV_8Nlsi"
      },
      "source": [
        "Після очищення датафрейму від дублікатів та від від'ємного часу, було видалено 1613 рядків. У коді це було перевірено за допомогою функції drop_dublicate (на перевірку дублікатів) та за допомогою функції pd.to_datetime, яка добавляє за замовчуванням до всіх дат нулі в часі, де їх не було, щоб не порушувати структуру.\n"
      ]
    },
    {
      "cell_type": "markdown",
      "metadata": {
        "id": "6oZ7C_ry4uvb"
      },
      "source": [
        "22. Виведіть на екран всі рядки, де є хоч одне пропущене значення."
      ]
    },
    {
      "cell_type": "code",
      "execution_count": null,
      "metadata": {
        "colab": {
          "base_uri": "https://localhost:8080/"
        },
        "id": "BPmCTDtg4wVS",
        "outputId": "b5c46299-da45-413c-b8b0-89d2dfa0881b"
      },
      "outputs": [
        {
          "output_type": "stream",
          "name": "stdout",
          "text": [
            "             time_start            time_end           model launch_place  \\\n",
            "0   2025-01-31 19:00:00 2025-02-01 09:00:00       X-22/X-32          NaN   \n",
            "1   2025-01-31 19:00:00 2025-02-01 09:00:00     X-101/X-555          NaN   \n",
            "2   2025-01-03 12:00:00 2025-01-03 20:00:00       X-59/X-69          NaN   \n",
            "3   2025-01-03 12:00:00 2025-01-03 20:00:00      Iskander-M          NaN   \n",
            "4   2025-01-03 12:00:00 2025-01-03 20:00:00           C-300          NaN   \n",
            "..                  ...                 ...             ...          ...   \n",
            "117 2022-10-06 15:00:00 2022-10-06 20:00:00       Mohajer-6          NaN   \n",
            "118 2022-10-06 09:00:00 2022-10-06 11:30:00  Shahed-136/131          NaN   \n",
            "119 2022-10-06 09:00:00 2022-10-06 11:30:00       Mohajer-6          NaN   \n",
            "120 2022-10-02 00:00:00 2022-10-02 02:00:00  Shahed-136/131          NaN   \n",
            "121 2022-09-29 23:00:00 2022-09-29 23:59:00  Shahed-136/131          NaN   \n",
            "\n",
            "                               target  launched destroyed  \\\n",
            "0                             Ukraine       8.0   Unknown   \n",
            "1                             Ukraine       8.0   Unknown   \n",
            "2               Dnipropetrovsk oblast       3.0         3   \n",
            "3                    Chernihiv oblast       3.0         0   \n",
            "4                        Kursk oblast       5.0         0   \n",
            "..                                ...       ...       ...   \n",
            "117                             south       1.0         1   \n",
            "118                   Mykolaiv oblast       2.0         2   \n",
            "119                   Mykolaiv oblast       1.0         1   \n",
            "120                   Mykolaiv oblast       7.0         5   \n",
            "121  Odesa oblast and Mykolaiv oblast       7.0         5   \n",
            "\n",
            "                                                source  \n",
            "0    kpszsu/posts/pfbid0aFVytMd4cuXwcV5sNnABLnxXo3r...  \n",
            "1    kpszsu/posts/pfbid0aFVytMd4cuXwcV5sNnABLnxXo3r...  \n",
            "2    kpszsu/posts/pfbid02v1KGGb6TjgiYbVUoMCWPuAVZYn...  \n",
            "3    kpszsu/posts/pfbid02v1KGGb6TjgiYbVUoMCWPuAVZYn...  \n",
            "4    kpszsu/posts/pfbid02v1KGGb6TjgiYbVUoMCWPuAVZYn...  \n",
            "..                                                 ...  \n",
            "117  kpszsu/posts/pfbid0rxEnbpvxAg8d8J5NW9ABgghPzcb...  \n",
            "118  kpszsu/posts/pfbid02YPkepucHoDQbmGfZURk8ScqNyM...  \n",
            "119  kpszsu/posts/pfbid02YPkepucHoDQbmGfZURk8ScqNyM...  \n",
            "120  kpszsu/posts/pfbid021aK2TqryAuB8gGrDYMTv3R8Xiu...  \n",
            "121  kpszsu/posts/pfbid021aK2TqryAuB8gGrDYMTv3R8Xiu...  \n",
            "\n",
            "[122 rows x 8 columns]\n"
          ]
        }
      ],
      "source": [
        "AtLeastOneNull = df[df.isnull().any(axis=1)]\n",
        "result = AtLeastOneNull.reset_index(drop=True)\n",
        "print(result)"
      ]
    }
  ],
  "metadata": {
    "colab": {
      "provenance": []
    },
    "kernelspec": {
      "display_name": "Python 3",
      "name": "python3"
    },
    "language_info": {
      "name": "python"
    }
  },
  "nbformat": 4,
  "nbformat_minor": 0
}